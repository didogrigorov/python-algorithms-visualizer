{
  "nbformat": 4,
  "nbformat_minor": 0,
  "metadata": {
    "colab": {
      "provenance": [],
      "authorship_tag": "ABX9TyMb7WsgJn93m9FPoBmDboWP",
      "include_colab_link": true
    },
    "kernelspec": {
      "name": "python3",
      "display_name": "Python 3"
    },
    "language_info": {
      "name": "python"
    }
  },
  "cells": [
    {
      "cell_type": "markdown",
      "metadata": {
        "id": "view-in-github",
        "colab_type": "text"
      },
      "source": [
        "<a href=\"https://colab.research.google.com/github/didogrigorov/python-algorithms-visualizer/blob/main/Algorithm_VIsualizer.ipynb\" target=\"_parent\"><img src=\"https://colab.research.google.com/assets/colab-badge.svg\" alt=\"Open In Colab\"/></a>"
      ]
    },
    {
      "cell_type": "markdown",
      "source": [
        "# **Bubble Sort Algorithm Visualizer**"
      ],
      "metadata": {
        "id": "Z7GiiMFEC9Z5"
      }
    },
    {
      "cell_type": "code",
      "execution_count": null,
      "metadata": {
        "id": "Sc9MbtQmBXwK"
      },
      "outputs": [],
      "source": [
        "import matplotlib.pyplot as plt\n",
        "import numpy as np\n",
        "\n",
        "bars = int(input(\"Enter how many bars do you want to sort? \"))\n",
        "width = 0.45\n",
        "\n",
        "mylst = np.random.randint(0,100, bars)\n",
        "x = np.arange(0, bars, 1)\n",
        "n = len(mylst)\n",
        "\n",
        "\n",
        "for i in range(n):\n",
        "  for j in range(n-i-1):\n",
        "    plt.bar(x, mylst, width, color=list(plt.rcParams['axes.prop_cycle'])[1]['color'])\n",
        "    plt.pause(0.05)\n",
        "    plt.clf()\n",
        "    \n",
        "    if mylst[j] > mylst[j+1]:\n",
        "      mylst[j], mylst[j+1] = mylst[j+1], mylst[j]\n",
        "\n",
        "plt.style.use('ggplot')\n",
        "plt.show()\n"
      ]
    },
    {
      "cell_type": "markdown",
      "source": [
        "# **Insertion Sort Algorithm Visualizer**"
      ],
      "metadata": {
        "id": "40RVmQhoPpLB"
      }
    },
    {
      "cell_type": "code",
      "source": [
        "import matplotlib.pyplot as plt\n",
        "import numpy as np\n",
        "\n",
        "bars = 25\n",
        "\n",
        "mylst = np.random.randint(0, 100, bars)\n",
        "x = np.arange(0, bars)\n",
        "n = len(mylst)\n",
        "\n",
        "for i in range(1, len(mylst)):\n",
        "    for j in range(i, 0, -1):\n",
        "        if mylst[j] < mylst[j-1]:\n",
        "            mylst[j], mylst[j-1] = mylst[j-1], mylst[j]\n",
        "        else:\n",
        "            break\n",
        "        plt.bar(x, mylst, width, color=list(plt.rcParams['axes.prop_cycle'])[3]['color'])\n",
        "        plt.pause(0.10)\n",
        "        plt.clf()\n",
        "\n",
        "plt.show()"
      ],
      "metadata": {
        "id": "Iqi_Gwa7PqaB"
      },
      "execution_count": null,
      "outputs": []
    },
    {
      "cell_type": "markdown",
      "source": [
        "# **Selection Sort Algorithm Visualizer**\n",
        "\n"
      ],
      "metadata": {
        "id": "DOqiWSZcQ9ub"
      }
    },
    {
      "cell_type": "code",
      "source": [
        "import matplotlib.pyplot as plt\n",
        "import numpy as np\n",
        "\n",
        "bars = 35\n",
        "\n",
        "mylst = np.random.randint(0, 100, bars)\n",
        "x = np.arange(0, bars)\n",
        "n = len(mylst)\n",
        "\n",
        "for idx in range(len(mylst)):\n",
        "    min_idx = idx\n",
        "\n",
        "    for curr_idx in range(idx + 1, len(mylst)):\n",
        "        if mylst[curr_idx] < mylst[min_idx]:\n",
        "            min_idx = curr_idx\n",
        "\n",
        "    mylst[idx], mylst[min_idx] = mylst[min_idx], mylst[idx]\n",
        "\n",
        "    plt.bar(x, mylst)\n",
        "    plt.pause(0.10)\n",
        "    plt.clf()\n",
        "\n",
        "plt.show()"
      ],
      "metadata": {
        "id": "zcZJQN7KRBdi"
      },
      "execution_count": null,
      "outputs": []
    },
    {
      "cell_type": "markdown",
      "source": [
        "# **Quicksort Algorithm Visualizer**"
      ],
      "metadata": {
        "id": "hjQef0UrTc9J"
      }
    },
    {
      "cell_type": "code",
      "source": [
        "import matplotlib.pyplot as plt\n",
        "import numpy as np\n",
        "\n",
        "bars = 55\n",
        "mylst = np.random.randint(0, 100, bars)\n",
        "\n",
        "def quickSort(mylst):\n",
        "    n = len(mylst)\n",
        "    quicksorthelper(0, n - 1, mylst)\n",
        "    return mylst\n",
        "\n",
        "def quicksorthelper(start, end, nums):\n",
        "    if start >= end:\n",
        "        return\n",
        "\n",
        "    pivot = start\n",
        "    left = start + 1\n",
        "    right = end\n",
        "\n",
        "    while left <= right:\n",
        "        if nums[left] > nums[pivot] > nums[right]:\n",
        "            nums[left], nums[right] = nums[right], nums[left]\n",
        "\n",
        "        if nums[left] <= nums[pivot]:\n",
        "            left += 1\n",
        "        if nums[right] >= nums[pivot]:\n",
        "            right -= 1\n",
        "\n",
        "    nums[pivot], nums[right] = nums[right], nums[pivot]\n",
        "\n",
        "    quicksorthelper(start, right - 1, nums)\n",
        "    quicksorthelper(left, end, nums)\n",
        "\n",
        "    x = np.arange(0, bars)\n",
        "    plt.bar(x, mylst)\n",
        "    plt.pause(0.30)\n",
        "    plt.clf()\n",
        "    plt.show()\n",
        "\n",
        "    return nums\n",
        "\n",
        "quickSort(mylst)"
      ],
      "metadata": {
        "id": "SrsfPxbRTgfL"
      },
      "execution_count": null,
      "outputs": []
    }
  ]
}