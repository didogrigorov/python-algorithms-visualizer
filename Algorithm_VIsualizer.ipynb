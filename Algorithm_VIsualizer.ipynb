{
  "nbformat": 4,
  "nbformat_minor": 0,
  "metadata": {
    "colab": {
      "provenance": [],
      "authorship_tag": "ABX9TyMrQUV/KSGsvor+y93x7rrG",
      "include_colab_link": true
    },
    "kernelspec": {
      "name": "python3",
      "display_name": "Python 3"
    },
    "language_info": {
      "name": "python"
    }
  },
  "cells": [
    {
      "cell_type": "markdown",
      "metadata": {
        "id": "view-in-github",
        "colab_type": "text"
      },
      "source": [
        "<a href=\"https://colab.research.google.com/github/didogrigorov/python-algorithms-visualizer/blob/main/Algorithm_VIsualizer.ipynb\" target=\"_parent\"><img src=\"https://colab.research.google.com/assets/colab-badge.svg\" alt=\"Open In Colab\"/></a>"
      ]
    },
    {
      "cell_type": "markdown",
      "source": [
        "# **Bubble Sort Algorithm Visualizer**"
      ],
      "metadata": {
        "id": "Z7GiiMFEC9Z5"
      }
    },
    {
      "cell_type": "code",
      "execution_count": null,
      "metadata": {
        "id": "Sc9MbtQmBXwK"
      },
      "outputs": [],
      "source": [
        "import matplotlib.pyplot as plt\n",
        "import numpy as np\n",
        "\n",
        "bars = int(input(\"Enter how many bars do you want to sort? \"))\n",
        "width = 0.45\n",
        "\n",
        "mylst = np.random.randint(0,100, bars)\n",
        "x = np.arange(0, bars, 1)\n",
        "n = len(mylst)\n",
        "\n",
        "\n",
        "for i in range(n):\n",
        "  for j in range(n-i-1):\n",
        "    plt.bar(x, mylst, width, color=list(plt.rcParams['axes.prop_cycle'])[1]['color'])\n",
        "    plt.pause(0.05)\n",
        "    plt.clf()\n",
        "    \n",
        "    if mylst[j] > mylst[j+1]:\n",
        "      mylst[j], mylst[j+1] = mylst[j+1], mylst[j]\n",
        "\n",
        "plt.style.use('ggplot')\n",
        "plt.bar(list(range(bars)), mylst)\n",
        "plt.show()\n"
      ]
    },
    {
      "cell_type": "markdown",
      "source": [
        "# **Insertion Sort Algorithm Visualizer**"
      ],
      "metadata": {
        "id": "40RVmQhoPpLB"
      }
    },
    {
      "cell_type": "code",
      "source": [
        "import matplotlib.pyplot as plt\n",
        "import numpy as np\n",
        "\n",
        "bars = 25\n",
        "\n",
        "mylst = np.random.randint(0, 100, bars)\n",
        "x = np.arange(0, bars)\n",
        "n = len(mylst)\n",
        "\n",
        "for i in range(1, len(mylst)):\n",
        "    for j in range(i, 0, -1):\n",
        "        if mylst[j] < mylst[j-1]:\n",
        "            mylst[j], mylst[j-1] = mylst[j-1], mylst[j]\n",
        "        else:\n",
        "            break\n",
        "        plt.bar(x, mylst, width, color=list(plt.rcParams['axes.prop_cycle'])[3]['color'])\n",
        "        plt.pause(0.10)\n",
        "        plt.clf()\n",
        "\n",
        "plt.show()"
      ],
      "metadata": {
        "id": "Iqi_Gwa7PqaB"
      },
      "execution_count": null,
      "outputs": []
    },
    {
      "cell_type": "markdown",
      "source": [
        "# **Selection Sort Algorithm Visualizer**\n",
        "\n"
      ],
      "metadata": {
        "id": "DOqiWSZcQ9ub"
      }
    },
    {
      "cell_type": "code",
      "source": [
        "import matplotlib.pyplot as plt\n",
        "import numpy as np\n",
        "\n",
        "bars = 35\n",
        "\n",
        "mylst = np.random.randint(0, 100, bars)\n",
        "x = np.arange(0, bars)\n",
        "n = len(mylst)\n",
        "\n",
        "for idx in range(len(mylst)):\n",
        "    min_idx = idx\n",
        "\n",
        "    for curr_idx in range(idx + 1, len(mylst)):\n",
        "        if mylst[curr_idx] < mylst[min_idx]:\n",
        "            min_idx = curr_idx\n",
        "\n",
        "    mylst[idx], mylst[min_idx] = mylst[min_idx], mylst[idx]\n",
        "\n",
        "    plt.bar(x, mylst)\n",
        "    plt.pause(0.10)\n",
        "    plt.clf()\n",
        "\n",
        "plt.show()"
      ],
      "metadata": {
        "id": "zcZJQN7KRBdi"
      },
      "execution_count": null,
      "outputs": []
    },
    {
      "cell_type": "markdown",
      "source": [
        "# **Quicksort Algorithm Visualizer**"
      ],
      "metadata": {
        "id": "hjQef0UrTc9J"
      }
    },
    {
      "cell_type": "code",
      "source": [
        "import matplotlib.pyplot as plt\n",
        "import numpy as np\n",
        "\n",
        "bars = 55\n",
        "mylst = np.random.randint(0, 100, bars)\n",
        "\n",
        "def quickSort(mylst):\n",
        "    n = len(mylst)\n",
        "    quicksorthelper(0, n - 1, mylst)\n",
        "    return mylst\n",
        "\n",
        "def quicksorthelper(start, end, nums):\n",
        "    if start >= end:\n",
        "        return\n",
        "\n",
        "    pivot = start\n",
        "    left = start + 1\n",
        "    right = end\n",
        "\n",
        "    while left <= right:\n",
        "        if nums[left] > nums[pivot] > nums[right]:\n",
        "            nums[left], nums[right] = nums[right], nums[left]\n",
        "\n",
        "        if nums[left] <= nums[pivot]:\n",
        "            left += 1\n",
        "        if nums[right] >= nums[pivot]:\n",
        "            right -= 1\n",
        "\n",
        "    nums[pivot], nums[right] = nums[right], nums[pivot]\n",
        "\n",
        "    quicksorthelper(start, right - 1, nums)\n",
        "    quicksorthelper(left, end, nums)\n",
        "\n",
        "    x = np.arange(0, bars)\n",
        "    plt.bar(x, mylst)\n",
        "    plt.pause(0.30)\n",
        "    plt.clf()\n",
        "    plt.show()\n",
        "\n",
        "    return nums\n",
        "\n",
        "quickSort(mylst)"
      ],
      "metadata": {
        "id": "SrsfPxbRTgfL"
      },
      "execution_count": null,
      "outputs": []
    },
    {
      "cell_type": "markdown",
      "source": [
        "# **Merge Sort Algorithm Visualizer**"
      ],
      "metadata": {
        "id": "miMinvpBq9PT"
      }
    },
    {
      "cell_type": "code",
      "source": [
        "import random\n",
        "import matplotlib.pyplot as plt\n",
        "\n",
        "random.seed('ABC')\n",
        "amount = 20\n",
        "numbers = [random.randint(0, 1000) for i in range(amount)]\n",
        "\n",
        "\n",
        "def merge_sort(number_list, left, right):\n",
        "    if left >= right:\n",
        "        return\n",
        "\n",
        "    mid = (left + right) // 2\n",
        "    plt.bar(list(range(amount)), number_list)\n",
        "    plt.pause(0.01)\n",
        "    plt.clf()\n",
        "\n",
        "    merge_sort(number_list, left, mid)\n",
        "    merge_sort(number_list, mid + 1, right)\n",
        "\n",
        "    plt.bar(list(range(amount)), number_list)\n",
        "    plt.pause(0.01)\n",
        "    plt.clf()\n",
        "\n",
        "    merge(number_list, left, right, mid)\n",
        "\n",
        "    plt.bar(list(range(amount)), number_list)\n",
        "    plt.pause(0.01)\n",
        "    plt.clf()\n",
        "\n",
        "def merge(number_list, left, right, mid):\n",
        "\n",
        "    left_part = number_list[left:mid +1]\n",
        "    right_part = number_list[mid+1:right+1]\n",
        "\n",
        "    left_counter, right_counter = 0, 0\n",
        "    sorted_counter = left\n",
        "\n",
        "    while left_counter < len(left_part) and right_counter < len(right_part):\n",
        "        if left_part[left_counter] <= right_part[right_counter]:\n",
        "            number_list[sorted_counter] = left_part[left_counter]\n",
        "            left_counter += 1\n",
        "        else:\n",
        "            number_list[sorted_counter] = right_part[right_counter]\n",
        "            right_counter += 1\n",
        "\n",
        "        sorted_counter += 1\n",
        "\n",
        "    while left_counter < len(left_part):\n",
        "        number_list[sorted_counter] = left_part[left_counter]\n",
        "        left_counter += 1\n",
        "        sorted_counter += 1\n",
        "\n",
        "    while right_counter < len(right_part):\n",
        "        number_list[sorted_counter] = right_part[right_counter]\n",
        "        right_counter += 1\n",
        "        sorted_counter += 1\n",
        "\n",
        "merge_sort(numbers, 0, len(numbers) - 1)\n",
        "print(numbers)\n",
        "plt.bar(list(range(amount)), numbers)\n",
        "plt.show()"
      ],
      "metadata": {
        "id": "lsYMvSvprAZ5"
      },
      "execution_count": null,
      "outputs": []
    }
  ]
}